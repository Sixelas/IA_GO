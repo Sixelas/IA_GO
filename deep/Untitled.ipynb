{
  "nbformat": 4,
  "nbformat_minor": 0,
  "metadata": {
    "colab": {
      "name": "Untitled",
      "provenance": [],
      "collapsed_sections": []
    },
    "kernelspec": {
      "display_name": "Python 3",
      "name": "python3"
    }
  },
  "cells": [
    {
      "cell_type": "markdown",
      "metadata": {
        "id": "4pm8VgqwIJm-"
      },
      "source": [
        "# Informations importantes concernant le rapport\n",
        "\n",
        "Nous avons fait le choix de retirer les consignes et autres commentaires d'origine dans le document, afin d'avoir un rapport plus épuré.\n",
        "\n",
        "Le dernier bloc de code est un condensé des étapes nécessaires à la prédiction, sans compter la génération du model et le fit.\n",
        "Ce bloc était destiné à faire des prédictions sur des models déjà sauvegardés à l'avance, mais colab ne fait que des sauvegardes temporaires donc à moins de partager un model externe, le dernier bloc ne fonctionnera pas sans avoir exécuté tout les blocs précédents.\n",
        "\n",
        "Nous avons également deux représentations graphiques qui nous ont permises d'observer l'évolution de notre model, et de visualiser l'overfitting.\n",
        "\n",
        "- `data` contiendra les données sur lesquelles faire l'apprentissage (ces données contiennent la valeur qu'il faut prévoir pour entrainer le réseau)\n",
        "- `data_to_evaluate` contiendra les données sur lesquelles faire les prédictions."
      ]
    },
    {
      "cell_type": "code",
      "metadata": {
        "colab": {
          "base_uri": "https://localhost:8080/"
        },
        "id": "Vm7vJpFET8RS",
        "outputId": "b6c0ce78-dcbd-4d0f-fcf8-88215b18187c"
      },
      "source": [
        "# Import du fichier d'exemples\n",
        "\n",
        "def get_raw_data_go(file):\n",
        "    ''' Returns the set of samples from the local file or download it if it does not exists'''\n",
        "    import gzip, os.path\n",
        "    import json\n",
        "\n",
        "    if not os.path.isfile(file):\n",
        "        print(\"File\", file, \"not found, I am downloading it...\", end=\"\")\n",
        "        import urllib.request \n",
        "        urllib.request.urlretrieve (\"https://www.labri.fr/perso/lsimon/IA-M1/\" + file, file)\n",
        "        print(\" Done\")\n",
        "\n",
        "    with gzip.open(file) as fz:\n",
        "        data = json.loads(fz.read().decode(\"utf-8\"))\n",
        "    return data\n",
        "\n",
        "data = get_raw_data_go(\"samples-9x9.json.gz\")\n",
        "data_to_evaluate = get_raw_data_go(\"positions-to-evaluate-9x9.json.gz\")\n",
        "\n",
        "print(\"We have\", len(data),\"examples with the scores to train, ...\")\n",
        "print(\"We have\", len(data_to_evaluate),\"examples to score (but for which we don't know the real values)\")"
      ],
      "execution_count": null,
      "outputs": [
        {
          "output_type": "stream",
          "text": [
            "We have 41563 examples with the scores to train, ...\n",
            "We have 1000 examples to score (but for which we don't know the real values)\n"
          ],
          "name": "stdout"
        }
      ]
    },
    {
      "cell_type": "markdown",
      "metadata": {
        "id": "dR6PDx3xYIjg"
      },
      "source": [
        "# First steps: transform all the data into numpy arrays to feed your neural network"
      ]
    },
    {
      "cell_type": "code",
      "metadata": {
        "id": "do2tejr0Wvbv"
      },
      "source": [
        "import numpy as np\n",
        "\n",
        "def name_to_coord(s):\n",
        "    assert s != \"PASS\"\n",
        "    indexLetters = {'A':0, 'B':1, 'C':2, 'D':3, 'E':4, 'F':5, 'G':6, 'H':7, 'J':8}\n",
        "\n",
        "    col = indexLetters[s[0]]\n",
        "    lin = int(s[1:]) - 1\n",
        "    return col, lin\n",
        "\n",
        "def json_to_numpy(sample):\n",
        "  to_return = np.zeros((9,9,2))\n",
        "  indices = [\"black_stones\", \"white_stones\"]\n",
        "  for plane, name in enumerate(indices):\n",
        "    for coord_name in sample[name]:\n",
        "      x, y = name_to_coord(coord_name)\n",
        "      to_return[x,y,plane] = 1\n",
        "  return to_return"
      ],
      "execution_count": null,
      "outputs": []
    },
    {
      "cell_type": "markdown",
      "metadata": {
        "id": "ulZ_j3a0ZK4n"
      },
      "source": [
        "# Second steps: build your neural network and train it"
      ]
    },
    {
      "cell_type": "code",
      "metadata": {
        "colab": {
          "base_uri": "https://localhost:8080/"
        },
        "id": "f_bN4dTaXPKK",
        "outputId": "e3238537-b162-485d-b347-852c07474c78"
      },
      "source": [
        "import tensorflow.keras\n",
        "from tensorflow.keras.models import Sequential\n",
        "from tensorflow.keras.layers import Dense, Dropout, Activation, Flatten\n",
        "from tensorflow.keras.layers import Conv2D,  MaxPooling2D, BatchNormalization\n",
        "import tensorflow.keras.optimizers as optimizers\n",
        "import tensorflow as tf\n",
        "\n",
        "model = Sequential()\n",
        "\n",
        "model.add(Conv2D(16, kernel_size=(3,3), activation='relu', input_shape=(9,9,2), padding ='same'))\n",
        "model.add(Dropout(rate=0.25))\n",
        "model.add(Conv2D(8, kernel_size=(3,3), activation='relu', padding ='same'))\n",
        "model.add(Dropout(rate=0.25))\n",
        "model.add(Conv2D(4, kernel_size=(3,3), activation='sigmoid', padding ='same'))\n",
        "model.add(Flatten())\n",
        "model.add(Dense(9*9, activation='sigmoid'))\n",
        "model.add(Dense(20, activation='sigmoid'))\n",
        "model.add(Dense(1, activation='sigmoid'))\n",
        "\n",
        "model.summary()"
      ],
      "execution_count": null,
      "outputs": [
        {
          "output_type": "stream",
          "text": [
            "Model: \"sequential_3\"\n",
            "_________________________________________________________________\n",
            "Layer (type)                 Output Shape              Param #   \n",
            "=================================================================\n",
            "conv2d_9 (Conv2D)            (None, 9, 9, 16)          304       \n",
            "_________________________________________________________________\n",
            "dropout_6 (Dropout)          (None, 9, 9, 16)          0         \n",
            "_________________________________________________________________\n",
            "conv2d_10 (Conv2D)           (None, 9, 9, 8)           1160      \n",
            "_________________________________________________________________\n",
            "dropout_7 (Dropout)          (None, 9, 9, 8)           0         \n",
            "_________________________________________________________________\n",
            "conv2d_11 (Conv2D)           (None, 9, 9, 4)           292       \n",
            "_________________________________________________________________\n",
            "flatten_3 (Flatten)          (None, 324)               0         \n",
            "_________________________________________________________________\n",
            "dense_9 (Dense)              (None, 81)                26325     \n",
            "_________________________________________________________________\n",
            "dense_10 (Dense)             (None, 20)                1640      \n",
            "_________________________________________________________________\n",
            "dense_11 (Dense)             (None, 1)                 21        \n",
            "=================================================================\n",
            "Total params: 29,742\n",
            "Trainable params: 29,742\n",
            "Non-trainable params: 0\n",
            "_________________________________________________________________\n"
          ],
          "name": "stdout"
        }
      ]
    },
    {
      "cell_type": "markdown",
      "metadata": {
        "id": "O5HlV67jxZTY"
      },
      "source": [
        "**Archives d'anciens réseaux intermédiaires moins  performants qui ont conduit au final.**\n",
        "_______________________________________________________\n",
        "\n",
        "model = Sequential()\n",
        "\n",
        "model.add(Conv2D(16, kernel_size=(3,3), activation='relu', input_shape=(9,9,2), padding ='same'))\n",
        "\n",
        "model.add(Dropout(rate=0.25))\n",
        "\n",
        "model.add(Conv2D(8, kernel_size=(3,3), activation='relu', padding ='same'))\n",
        "\n",
        "model.add(Dropout(rate=0.25))\n",
        "\n",
        "model.add(Conv2D(4, kernel_size=(3,3), activation='relu', padding ='same'))\n",
        "\n",
        "model.add(Flatten())\n",
        "\n",
        "model.add(Dense(9*9, activation='sigmoid'))\n",
        "\n",
        "model.add(Dense(1, activation='sigmoid'))\n",
        "\n",
        "model.summary()\n",
        "\n",
        "model.compile(loss='mae', optimizer='adam', metrics=['accuracy', 'mae'])\n",
        "\n",
        "history = model.fit(X, Y, epochs=30, batch_size=200, validation_split=0.33)\n",
        "\n",
        "Epoch 30/30 557/557 [==============================] - 19s 34ms/step - loss: 0.1108 - accuracy: 0.3308 - mae: 0.1108 - val_loss: 0.1098 - val_accuracy: 0.3204 - val_mae: 0.1098\n",
        "\n",
        "_______________________________________________________\n",
        "\n",
        "model = Sequential()\n",
        "\n",
        "model.add(Conv2D(16, kernel_size=(3,3), activation='relu', input_shape=(9,9,2), padding ='same'))\n",
        "\n",
        "model.add(Dropout(rate=0.25))\n",
        "\n",
        "model.add(Conv2D(8, kernel_size=(3,3), activation='relu', padding ='same'))\n",
        "\n",
        "model.add(Dropout(rate=0.25))\n",
        "\n",
        "model.add(Conv2D(4, kernel_size=(3,3), activation='sigmoid', padding ='same'))\n",
        "\n",
        "model.add(Flatten())\n",
        "\n",
        "model.add(Dense(9*9, activation='sigmoid'))\n",
        "\n",
        "model.add(Dense(20, activation='sigmoid'))\n",
        "\n",
        "model.add(Dense(1, activation='sigmoid'))\n",
        "\n",
        "model.summary()\n",
        "\n",
        "model.compile(loss='mae', optimizer='adam', metrics=['accuracy', 'mae'])\n",
        "\n",
        "history = model.fit(X, Y, epochs=30, batch_size=300, validation_split=0.33)\n",
        "\n",
        "_______________________________________________________\n",
        "\n",
        "**30 epochs est suffisant pour le model final, sinon on fait de l'overfitting (voir graphiques plus bas).**"
      ]
    },
    {
      "cell_type": "markdown",
      "metadata": {
        "id": "djQ5DVgyZUjL"
      },
      "source": [
        "# Now we can build our sets for training"
      ]
    },
    {
      "cell_type": "code",
      "metadata": {
        "colab": {
          "base_uri": "https://localhost:8080/"
        },
        "id": "Wsn3D-G2XT8A",
        "outputId": "1e9dfc95-9831-48e9-bc69-05c4f5559462"
      },
      "source": [
        "# Ici on retrouve différentes fonctions nécessaires\n",
        "# à l'augmentation du nombre de boards possibles pour le training.\n",
        "\n",
        "def root(sample):\n",
        "  return np.rot90(sample)\n",
        "\n",
        "def root2(sample):\n",
        "  return root(np.rot90(sample))\n",
        "\n",
        "def root3(sample):\n",
        "  return root2(np.rot90(sample))\n",
        "\n",
        "def flip_ud(sample):\n",
        "  return np.flipud(sample)\n",
        "\n",
        "def flip_lr(sample):\n",
        "  return np.fliplr(sample)\n",
        "\n",
        "def flipU_rot(sample):\n",
        "  return root(flip_ud(sample))\n",
        "\n",
        "def flipL_rot(sample):\n",
        "  return root(flip_lr(sample))\n",
        "\n",
        "np.random.seed(12345)  # A changer pour ne pas mélanger toujours pareil\n",
        "\n",
        "X = []\n",
        "Y = []\n",
        "for d in data:\n",
        "  X.append(json_to_numpy(d))\n",
        "  Y.append(d[\"black_wins\"] / d[\"rollouts\"])\n",
        "  X.append(root(json_to_numpy(d)))\n",
        "  Y.append(d[\"black_wins\"] / d[\"rollouts\"])\n",
        "  X.append(root2(json_to_numpy(d)))\n",
        "  Y.append(d[\"black_wins\"] / d[\"rollouts\"])\n",
        "  X.append(root3(json_to_numpy(d)))\n",
        "  Y.append(d[\"black_wins\"] / d[\"rollouts\"])\n",
        "  X.append(flip_ud(json_to_numpy(d)))\n",
        "  Y.append(d[\"black_wins\"] / d[\"rollouts\"])\n",
        "  X.append(flip_lr(json_to_numpy(d)))\n",
        "  Y.append(d[\"black_wins\"] / d[\"rollouts\"])\n",
        "  X.append(flipU_rot(json_to_numpy(d)))\n",
        "  Y.append(d[\"black_wins\"] / d[\"rollouts\"])\n",
        "  X.append(flipL_rot(json_to_numpy(d)))\n",
        "  Y.append(d[\"black_wins\"] / d[\"rollouts\"])\n",
        "  \n",
        "\n",
        "X = np.array(X)\n",
        "Y = np.array(Y)\n",
        "\n",
        "\n",
        "print(X.shape)\n",
        "print(Y.shape)\n",
        "\n",
        "\n",
        "X_to_predict = []\n",
        "for d in data_to_evaluate:\n",
        "  X_to_predict.append(json_to_numpy(d))\n",
        "X_to_predict = np.array(X_to_predict)\n",
        "\n",
        "print(\"Et voici les 1000 exemples à prédire, prêts à passer dans votre réseau\")\n",
        "print(X_to_predict.shape)"
      ],
      "execution_count": null,
      "outputs": [
        {
          "output_type": "stream",
          "text": [
            "(332504, 9, 9, 2)\n",
            "(332504,)\n",
            "Et voici les 1000 exemples à prédire, prêts à passer dans votre réseau\n",
            "(1000, 9, 9, 2)\n"
          ],
          "name": "stdout"
        }
      ]
    },
    {
      "cell_type": "markdown",
      "metadata": {
        "id": "g9jCQTO-ZYH3"
      },
      "source": [
        "# Last step\n",
        "\n",
        "Prepare your model to predict the set of new data to predict, and predict the file with the 1000 examples to predict!\n"
      ]
    },
    {
      "cell_type": "code",
      "metadata": {
        "colab": {
          "base_uri": "https://localhost:8080/"
        },
        "id": "zHBpVZKIXZA8",
        "outputId": "57bc0885-6b8c-44ae-8af7-7f8712a9fac1"
      },
      "source": [
        "model.compile(loss='mae', optimizer='adam', metrics=['accuracy', 'mae'])\n",
        "\n",
        "history = model.fit(X, Y, epochs=30, batch_size=300, validation_split=0.33)\n",
        "\n",
        "model.save(\"my_model\") #sauvegarde temporaire à la session active\n"
      ],
      "execution_count": null,
      "outputs": [
        {
          "output_type": "stream",
          "text": [
            "Epoch 1/30\n",
            "743/743 [==============================] - 39s 51ms/step - loss: 0.2654 - accuracy: 0.2373 - mae: 0.2654 - val_loss: 0.2108 - val_accuracy: 0.2482 - val_mae: 0.2108\n",
            "Epoch 2/30\n",
            "743/743 [==============================] - 38s 51ms/step - loss: 0.2043 - accuracy: 0.2778 - mae: 0.2043 - val_loss: 0.1521 - val_accuracy: 0.3088 - val_mae: 0.1521\n",
            "Epoch 3/30\n",
            "743/743 [==============================] - 38s 51ms/step - loss: 0.1530 - accuracy: 0.3172 - mae: 0.1530 - val_loss: 0.1259 - val_accuracy: 0.3182 - val_mae: 0.1259\n",
            "Epoch 4/30\n",
            "743/743 [==============================] - 38s 51ms/step - loss: 0.1321 - accuracy: 0.3248 - mae: 0.1321 - val_loss: 0.1173 - val_accuracy: 0.3205 - val_mae: 0.1173\n",
            "Epoch 5/30\n",
            "743/743 [==============================] - 38s 51ms/step - loss: 0.1246 - accuracy: 0.3286 - mae: 0.1246 - val_loss: 0.1124 - val_accuracy: 0.3224 - val_mae: 0.1124\n",
            "Epoch 6/30\n",
            "743/743 [==============================] - 38s 51ms/step - loss: 0.1227 - accuracy: 0.3278 - mae: 0.1227 - val_loss: 0.1114 - val_accuracy: 0.3223 - val_mae: 0.1114\n",
            "Epoch 7/30\n",
            "743/743 [==============================] - 38s 51ms/step - loss: 0.1185 - accuracy: 0.3305 - mae: 0.1185 - val_loss: 0.1115 - val_accuracy: 0.3215 - val_mae: 0.1115\n",
            "Epoch 8/30\n",
            "743/743 [==============================] - 38s 51ms/step - loss: 0.1170 - accuracy: 0.3292 - mae: 0.1170 - val_loss: 0.1089 - val_accuracy: 0.3235 - val_mae: 0.1089\n",
            "Epoch 9/30\n",
            "743/743 [==============================] - 38s 51ms/step - loss: 0.1143 - accuracy: 0.3331 - mae: 0.1143 - val_loss: 0.1070 - val_accuracy: 0.3236 - val_mae: 0.1070\n",
            "Epoch 10/30\n",
            "743/743 [==============================] - 38s 51ms/step - loss: 0.1129 - accuracy: 0.3324 - mae: 0.1129 - val_loss: 0.1056 - val_accuracy: 0.3247 - val_mae: 0.1056\n",
            "Epoch 11/30\n",
            "743/743 [==============================] - 38s 51ms/step - loss: 0.1124 - accuracy: 0.3334 - mae: 0.1124 - val_loss: 0.1059 - val_accuracy: 0.3239 - val_mae: 0.1059\n",
            "Epoch 12/30\n",
            "743/743 [==============================] - 38s 51ms/step - loss: 0.1114 - accuracy: 0.3328 - mae: 0.1114 - val_loss: 0.1204 - val_accuracy: 0.3177 - val_mae: 0.1204\n",
            "Epoch 13/30\n",
            "743/743 [==============================] - 38s 51ms/step - loss: 0.1102 - accuracy: 0.3351 - mae: 0.1102 - val_loss: 0.1077 - val_accuracy: 0.3230 - val_mae: 0.1077\n",
            "Epoch 14/30\n",
            "743/743 [==============================] - 38s 51ms/step - loss: 0.1101 - accuracy: 0.3332 - mae: 0.1101 - val_loss: 0.1158 - val_accuracy: 0.3191 - val_mae: 0.1158\n",
            "Epoch 15/30\n",
            "743/743 [==============================] - 38s 51ms/step - loss: 0.1092 - accuracy: 0.3348 - mae: 0.1092 - val_loss: 0.1023 - val_accuracy: 0.3260 - val_mae: 0.1023\n",
            "Epoch 16/30\n",
            "743/743 [==============================] - 38s 51ms/step - loss: 0.1084 - accuracy: 0.3342 - mae: 0.1084 - val_loss: 0.1017 - val_accuracy: 0.3259 - val_mae: 0.1017\n",
            "Epoch 17/30\n",
            "743/743 [==============================] - 38s 51ms/step - loss: 0.1078 - accuracy: 0.3341 - mae: 0.1078 - val_loss: 0.1050 - val_accuracy: 0.3247 - val_mae: 0.1050\n",
            "Epoch 18/30\n",
            "743/743 [==============================] - 38s 51ms/step - loss: 0.1077 - accuracy: 0.3357 - mae: 0.1077 - val_loss: 0.1016 - val_accuracy: 0.3261 - val_mae: 0.1016\n",
            "Epoch 19/30\n",
            "743/743 [==============================] - 38s 51ms/step - loss: 0.1058 - accuracy: 0.3369 - mae: 0.1058 - val_loss: 0.1010 - val_accuracy: 0.3259 - val_mae: 0.1010\n",
            "Epoch 20/30\n",
            "743/743 [==============================] - 38s 51ms/step - loss: 0.1054 - accuracy: 0.3359 - mae: 0.1054 - val_loss: 0.0998 - val_accuracy: 0.3272 - val_mae: 0.0998\n",
            "Epoch 21/30\n",
            "743/743 [==============================] - 38s 51ms/step - loss: 0.1052 - accuracy: 0.3364 - mae: 0.1052 - val_loss: 0.1027 - val_accuracy: 0.3248 - val_mae: 0.1027\n",
            "Epoch 22/30\n",
            "743/743 [==============================] - 38s 51ms/step - loss: 0.1049 - accuracy: 0.3360 - mae: 0.1049 - val_loss: 0.1009 - val_accuracy: 0.3259 - val_mae: 0.1009\n",
            "Epoch 23/30\n",
            "743/743 [==============================] - 38s 51ms/step - loss: 0.1048 - accuracy: 0.3347 - mae: 0.1048 - val_loss: 0.1017 - val_accuracy: 0.3251 - val_mae: 0.1017\n",
            "Epoch 24/30\n",
            "743/743 [==============================] - 38s 51ms/step - loss: 0.1042 - accuracy: 0.3347 - mae: 0.1042 - val_loss: 0.1000 - val_accuracy: 0.3271 - val_mae: 0.1000\n",
            "Epoch 25/30\n",
            "743/743 [==============================] - 38s 51ms/step - loss: 0.1046 - accuracy: 0.3361 - mae: 0.1046 - val_loss: 0.0992 - val_accuracy: 0.3268 - val_mae: 0.0992\n",
            "Epoch 26/30\n",
            "743/743 [==============================] - 38s 51ms/step - loss: 0.1040 - accuracy: 0.3360 - mae: 0.1040 - val_loss: 0.0991 - val_accuracy: 0.3270 - val_mae: 0.0991\n",
            "Epoch 27/30\n",
            "743/743 [==============================] - 38s 52ms/step - loss: 0.1030 - accuracy: 0.3367 - mae: 0.1030 - val_loss: 0.0996 - val_accuracy: 0.3268 - val_mae: 0.0996\n",
            "Epoch 28/30\n",
            "743/743 [==============================] - 38s 51ms/step - loss: 0.1039 - accuracy: 0.3370 - mae: 0.1039 - val_loss: 0.0992 - val_accuracy: 0.3271 - val_mae: 0.0992\n",
            "Epoch 29/30\n",
            "743/743 [==============================] - 38s 51ms/step - loss: 0.1033 - accuracy: 0.3373 - mae: 0.1033 - val_loss: 0.0998 - val_accuracy: 0.3264 - val_mae: 0.0998\n",
            "Epoch 30/30\n",
            "743/743 [==============================] - 38s 51ms/step - loss: 0.1030 - accuracy: 0.3361 - mae: 0.1030 - val_loss: 0.0996 - val_accuracy: 0.3272 - val_mae: 0.0996\n",
            "INFO:tensorflow:Assets written to: my_model/assets\n"
          ],
          "name": "stdout"
        }
      ]
    },
    {
      "cell_type": "markdown",
      "metadata": {
        "id": "8RikeIJTRep9"
      },
      "source": [
        "**Graphiques permettant de visualiser l'avancée du fit**"
      ]
    },
    {
      "cell_type": "code",
      "metadata": {
        "colab": {
          "base_uri": "https://localhost:8080/",
          "height": 297
        },
        "id": "5GXztTgEoNdX",
        "outputId": "c2039e14-0f6f-48fe-edac-eeed31452ded"
      },
      "source": [
        "plt.plot(history.history['loss'], label='loss')\n",
        "plt.plot(history.history['val_loss'], label = 'val_loss')\n",
        "plt.xlabel('Epoch')\n",
        "plt.ylabel('val_loss')\n",
        "plt.ylim([0.05, 0.26])\n",
        "plt.legend(loc='lower right')"
      ],
      "execution_count": null,
      "outputs": [
        {
          "output_type": "execute_result",
          "data": {
            "text/plain": [
              "<matplotlib.legend.Legend at 0x7f34fce56c18>"
            ]
          },
          "metadata": {
            "tags": []
          },
          "execution_count": 33
        },
        {
          "output_type": "display_data",
          "data": {
            "image/png": "[encoded data removed]",
            "text/plain": [
              "<Figure size 432x288 with 1 Axes>"
            ]
          },
          "metadata": {
            "tags": [],
            "needs_background": "light"
          }
        }
      ]
    },
    {
      "cell_type": "code",
      "metadata": {
        "colab": {
          "base_uri": "https://localhost:8080/",
          "height": 297
        },
        "id": "2upHl2merrWA",
        "outputId": "74b896da-8a02-4985-ba3b-f7eb5d8764f7"
      },
      "source": [
        "plt.plot(history.history['accuracy'], label='accuracy')\n",
        "plt.plot(history.history['val_accuracy'], label = 'val_accuracy')\n",
        "plt.xlabel('Epoch')\n",
        "plt.ylabel('accuracy')\n",
        "plt.ylim([0.25, 0.375])\n",
        "plt.legend(loc='lower right')"
      ],
      "execution_count": null,
      "outputs": [
        {
          "output_type": "execute_result",
          "data": {
            "text/plain": [
              "<matplotlib.legend.Legend at 0x7f34fd009780>"
            ]
          },
          "metadata": {
            "tags": []
          },
          "execution_count": 34
        },
        {
          "output_type": "display_data",
          "data": {
            "image/png": "[encoded data removed]",
            "text/plain": [
              "<Figure size 432x288 with 1 Axes>"
            ]
          },
          "metadata": {
            "tags": [],
            "needs_background": "light"
          }
        }
      ]
    },
    {
      "cell_type": "markdown",
      "metadata": {
        "id": "IKARkz5lSCHV"
      },
      "source": [
        "# Evaluation (facultative)\n",
        "\n",
        "Petit module d'évaluation du model, ne sert pas à grand chose dans le cadre\n",
        "de ce projet mais permet d'avoir une idée de la moyenne d'efficacité de notre réseau à la fin du training.\n",
        "Cela montre également qu'il est possible d'enregistrer le model puis après le réupérer, ce qui permet d'éviter de refaire le training à chaque fois qu'on veut faire une prédiction sur de nouvelles valeurs aléatoires."
      ]
    },
    {
      "cell_type": "code",
      "metadata": {
        "colab": {
          "base_uri": "https://localhost:8080/"
        },
        "id": "VAHBh-8Tyuub",
        "outputId": "9f6b0bd7-8e97-40e1-fb05-ad9dd3328cef"
      },
      "source": [
        "from keras import models \n",
        "from keras.models import load_model\n",
        "reconstructed_model = load_model(\"my_model\")\n",
        "\n",
        "\n",
        "# First, let's create a training Dataset instance.\n",
        "train_dataset = tf.data.Dataset.from_tensor_slices((X, Y))\n",
        "# Shuffle and slice the dataset.\n",
        "train_dataset = train_dataset.shuffle(buffer_size=1024).batch(64)\n",
        "\n",
        "# Now we get a test dataset.\n",
        "test_dataset = tf.data.Dataset.from_tensor_slices((X, Y))\n",
        "test_dataset = test_dataset.batch(64)\n",
        "\n",
        "print(\"Evaluate\")\n",
        "result = model.evaluate(test_dataset)\n",
        "dict(zip(model.metrics_names, result))\n",
        "\n",
        "print(\"Evaluate_save\")\n",
        "result = reconstructed_model.evaluate(test_dataset)\n",
        "dict(zip(reconstructed_model.metrics_names, result))"
      ],
      "execution_count": null,
      "outputs": [
        {
          "output_type": "stream",
          "text": [
            "Evaluate\n",
            "5196/5196 [==============================] - 25s 5ms/step - loss: 0.0967 - accuracy: 0.3364 - mae: 0.0967\n",
            "Evaluate_save\n",
            "5196/5196 [==============================] - 22s 4ms/step - loss: 0.0967 - accuracy: 0.3364 - mae: 0.0967\n"
          ],
          "name": "stdout"
        },
        {
          "output_type": "execute_result",
          "data": {
            "text/plain": [
              "{'accuracy': 0.3364470899105072,\n",
              " 'loss': 0.09673544764518738,\n",
              " 'mae': 0.09673544764518738}"
            ]
          },
          "metadata": {
            "tags": []
          },
          "execution_count": 35
        }
      ]
    },
    {
      "cell_type": "markdown",
      "metadata": {
        "id": "tao3CGMLTuJz"
      },
      "source": [
        "# Prédiction et génération du .txt\n",
        "\n"
      ]
    },
    {
      "cell_type": "code",
      "metadata": {
        "colab": {
          "base_uri": "https://localhost:8080/"
        },
        "id": "hM6J7EOUXDQJ",
        "outputId": "3a28fe48-fe2a-4bf4-cdb5-e09e9aec58f2"
      },
      "source": [
        "def position_predict(description, is_test):\n",
        "    if is_test :\n",
        "      input = description\n",
        "    else :\n",
        "      input = json_to_numpy(description)\n",
        "\n",
        "    # Ici condition booléenne nécessaire car pour X_To_Train on a déjà fait le json_to_numpy\n",
        "    input = np.expand_dims(input, axis=0)\n",
        "    prediction = model.predict(input) \n",
        "    return prediction[0] \n",
        "\n",
        "# 1 - prediction = %de win des blancs vu que l'algo sort la proba de win des noirs.\n",
        "# P(noirs) + P(blancs) = 1\n",
        "\n",
        "\n",
        "print(\"Prediction this sample:\")\n",
        "\n",
        "print(\"La matrice résultat est de dimension\")\n",
        "print(X_to_predict[13].shape)\n",
        "print()\n",
        "print(\"Plan 0 du tenseur : contient les pieces contenant une pierre noire sur l'exemple 10\")\n",
        "print(X_to_predict[13][:,:,0])\n",
        "print()\n",
        "print(\"Plan 1 du tenseur : contient les pieces contenant une pierre blanche sur l'exemple 10\")\n",
        "print(X_to_predict[13][:,:,1])\n",
        "\n",
        "prediction = position_predict(X_to_predict[13], True)\n",
        "\n",
        "print()\n",
        "\n",
        "print(\"You predicted\")\n",
        "print(\"Black : \", prediction)\n",
        "print(\"White : \", 1-prediction)\n",
        "\n",
        "print()\n",
        "\n",
        "def create_result_file(newdata):\n",
        "    ''' Exemple de méthode permettant de générer le fichier de resultats demandés. '''\n",
        "    resultat  = [position_predict(d, True) for d in X_to_predict]\n",
        "    with open(\"my_predictions.txt\", \"w\") as f:\n",
        "         for p in resultat:\n",
        "            f.write(str(p)+\"\\n\")\n",
        "\n",
        "print(\"Ecriture dans le fichier my_predictions.txt en cours... \")\n",
        "create_result_file(X_to_predict)\n",
        "print(\"Génération du fichier résultat finie !\")"
      ],
      "execution_count": null,
      "outputs": [
        {
          "output_type": "stream",
          "text": [
            "Prediction this sample:\n",
            "La matrice résultat est de dimension\n",
            "(9, 9, 2)\n",
            "\n",
            "Plan 0 du tenseur : contient les pieces contenant une pierre noire sur l'exemple 10\n",
            "[[0. 0. 0. 0. 0. 0. 0. 0. 0.]\n",
            " [0. 0. 0. 0. 1. 0. 0. 0. 0.]\n",
            " [0. 0. 0. 0. 1. 0. 1. 1. 0.]\n",
            " [0. 0. 0. 0. 1. 0. 0. 0. 0.]\n",
            " [0. 1. 1. 0. 1. 1. 0. 1. 0.]\n",
            " [0. 0. 0. 0. 0. 0. 1. 0. 0.]\n",
            " [0. 0. 0. 0. 0. 0. 1. 0. 0.]\n",
            " [0. 0. 0. 0. 0. 0. 0. 0. 0.]\n",
            " [0. 0. 0. 0. 0. 0. 0. 0. 0.]]\n",
            "\n",
            "Plan 1 du tenseur : contient les pieces contenant une pierre blanche sur l'exemple 10\n",
            "[[0. 0. 0. 0. 0. 0. 0. 0. 0.]\n",
            " [0. 0. 0. 0. 0. 0. 1. 0. 0.]\n",
            " [0. 0. 0. 1. 0. 1. 0. 0. 0.]\n",
            " [0. 0. 1. 1. 0. 1. 1. 0. 0.]\n",
            " [0. 0. 0. 1. 0. 0. 0. 0. 0.]\n",
            " [0. 0. 0. 0. 0. 0. 0. 0. 0.]\n",
            " [0. 0. 1. 0. 0. 0. 0. 0. 0.]\n",
            " [0. 0. 0. 1. 0. 1. 0. 0. 0.]\n",
            " [0. 0. 0. 0. 0. 0. 0. 0. 0.]]\n",
            "\n",
            "You predicted\n",
            "Black :  [0.593571]\n",
            "White :  [0.406429]\n",
            "\n",
            "Ecriture dans le fichier my_predictions.txt en cours... \n",
            "Génération du fichier résultat finie !\n"
          ],
          "name": "stdout"
        }
      ]
    },
    {
      "cell_type": "markdown",
      "metadata": {
        "id": "H_UE5qRFPM4M"
      },
      "source": [
        "# **Condensé de toutes les étapes en utilisant le model enregistré**\n",
        "\n",
        "Attention ici on génère un fichier **my_predictions_2.txt** en utilisant une sauvegarde de notre model, cela permet d'éviter d'avoir à refaire toutes les étapes de training.\n",
        "\n",
        "On écrase pas **my_predictions.txt** initial.\n",
        "\n",
        "Ce bloc de code est indépendant des précédents vu qu'on refait tous les imports / conversions / fonctions utiles.\n",
        "\n",
        "On génère aléatoirement 1000 nouveau boards issus de data_to_evaluate.\n"
      ]
    },
    {
      "cell_type": "code",
      "metadata": {
        "colab": {
          "base_uri": "https://localhost:8080/"
        },
        "id": "K0sX4uQJPL52",
        "outputId": "00d280bc-8496-4933-e151-cfeae15344ce"
      },
      "source": [
        "import tensorflow.keras\n",
        "from tensorflow.keras.models import Sequential\n",
        "from tensorflow.keras.layers import Dense, Dropout, Activation, Flatten\n",
        "from tensorflow.keras.layers import Conv2D,  MaxPooling2D, BatchNormalization\n",
        "import tensorflow.keras.optimizers as optimizers\n",
        "import tensorflow as tf\n",
        "\n",
        "from keras import models \n",
        "from keras.models import load_model\n",
        "\n",
        "############################ Import du fichier d'exemples ############################\n",
        "\n",
        "def get_data(file):\n",
        "    ''' Returns the set of samples from the local file or download it if it does not exists'''\n",
        "    import gzip, os.path\n",
        "    import json\n",
        "\n",
        "    if not os.path.isfile(file):\n",
        "        print(\"File\", file, \"not found, I am downloading it...\", end=\"\")\n",
        "        import urllib.request \n",
        "        urllib.request.urlretrieve (\"https://www.labri.fr/perso/lsimon/IA-M1/\" + file, file)\n",
        "        print(\" Done\")\n",
        "\n",
        "    with gzip.open(file) as fz:\n",
        "        data = json.loads(fz.read().decode(\"utf-8\"))\n",
        "    return data\n",
        "\n",
        "data = get_data(\"samples-9x9.json.gz\")\n",
        "data_to_evaluate = get_data(\"positions-to-evaluate-9x9.json.gz\")\n",
        "\n",
        "\n",
        "############################ CONVERTISSEUR VERS NUMPY ############################\n",
        "import numpy as np\n",
        "\n",
        "def name_coord(s):\n",
        "    assert s != \"PASS\"\n",
        "    indexLetters = {'A':0, 'B':1, 'C':2, 'D':3, 'E':4, 'F':5, 'G':6, 'H':7, 'J':8}\n",
        "\n",
        "    col = indexLetters[s[0]]\n",
        "    lin = int(s[1:]) - 1\n",
        "    return col, lin\n",
        "\n",
        " # Vous pouvez utiliser votre propre fonction ici si vous voulez utiliser un autre encodage\n",
        "def json_numpy(sample):\n",
        "  to_return = np.zeros((9,9,2))\n",
        "  indices = [\"black_stones\", \"white_stones\"]\n",
        "  for plane, name in enumerate(indices):\n",
        "    for coord_name in sample[name]:\n",
        "      x, y = name_coord(coord_name)\n",
        "      to_return[x,y,plane] = 1\n",
        "  return to_return\n",
        "\n",
        "############################ Génération des 1000 exemples à prédire ############################\n",
        "\n",
        "X_2_predict = []\n",
        "for d in data_to_evaluate:\n",
        "  X_2_predict.append(json_numpy(d))\n",
        "X_2_predict = np.array(X_2_predict)\n",
        "\n",
        "print(\"Et voici les 1000 exemples à prédire\")\n",
        "print(X_2_predict.shape)\n",
        "\n",
        "############################ PREDICTION ############################\n",
        "\n",
        "model_2 = load_model(\"my_model\")  #Chargement du model enregistré précédemment\n",
        "\n",
        "def pos_predict(description, is_test):\n",
        "    if is_test :\n",
        "      input = description\n",
        "    else :\n",
        "      input = json_numpy(description)\n",
        "    input = np.expand_dims(input, axis=0)\n",
        "    prediction = model_2.predict(input)\n",
        "    return prediction[0]\n",
        "\n",
        "    # 1 - prediction = %de win des blancs vu que l'algo sort la proba de win des noirs :\n",
        "    # P(noirs) + P(blancs) = 1\n",
        "\n",
        "def create_res_file(newdata):\n",
        "    resultat  = [pos_predict(d, True) for d in X_2_predict]\n",
        "    with open(\"my_predictions_2.txt\", \"w\") as f:\n",
        "         for p in resultat:\n",
        "            f.write(str(p)+\"\\n\")\n",
        "\n",
        "print(\"Ecriture dans le fichier my_predictions_2.txt en cours... \")\n",
        "create_res_file(X_2_predict)\n",
        "print(\"Génération du fichier résultat finie !\")"
      ],
      "execution_count": null,
      "outputs": [
        {
          "output_type": "stream",
          "text": [
            "Et voici les 1000 exemples à prédire\n",
            "(1000, 9, 9, 2)\n",
            "Ecriture dans le fichier my_predictions_2.txt en cours... \n",
            "Génération du fichier résultat finie !\n"
          ],
          "name": "stdout"
        }
      ]
    },
    {
      "cell_type": "markdown",
      "metadata": {
        "id": "HDTqD88wNkaU"
      },
      "source": [
        "# Terminal nécessaire pour générer le .html\n",
        "\n",
        "Commande **jupyter nbconvert --to html notebook.ipynb**\n",
        "à exécuter, nécessite en amont de télécharger le **notebook.ipynb** après exécution du code, et le mettre dans **/content**.\n"
      ]
    },
    {
      "cell_type": "code",
      "metadata": {
        "id": "jXik0MFvCTr2"
      },
      "source": [
        "from IPython.display import JSON\n",
        "from google.colab import output\n",
        "from subprocess import getoutput\n",
        "import os\n",
        "\n",
        "def shell(command):\n",
        "  if command.startswith('cd'):\n",
        "    path = command.strip().split(maxsplit=1)[1]\n",
        "    os.chdir(path)\n",
        "    return JSON([''])\n",
        "  return JSON([getoutput(command)])\n",
        "output.register_callback('shell', shell)"
      ],
      "execution_count": null,
      "outputs": []
    },
    {
      "cell_type": "code",
      "metadata": {
        "id": "Kn9S2H8HODQD",
        "colab": {
          "base_uri": "https://localhost:8080/",
          "height": 267
        },
        "cellView": "form",
        "outputId": "222b5901-35a8-4490-f497-cf9ec9179df7"
      },
      "source": [
        "#@title Colab Shell\n",
        "%%html\n",
        "<div id=term_demo></div>\n",
        "<script src=\"https://code.jquery.com/jquery-latest.js\"></script>\n",
        "<script src=\"https://cdn.jsdelivr.net/npm/jquery.terminal/js/jquery.terminal.min.js\"></script>\n",
        "<link href=\"https://cdn.jsdelivr.net/npm/jquery.terminal/css/jquery.terminal.min.css\" rel=\"stylesheet\"/>\n",
        "<script>\n",
        "  $('#term_demo').terminal(async function(command) {\n",
        "      if (command !== '') {\n",
        "          try {\n",
        "              let res = await google.colab.kernel.invokeFunction('shell', [command])\n",
        "              let out = res.data['application/json'][0]\n",
        "              this.echo(new String(out))\n",
        "          } catch(e) {\n",
        "              this.error(new String(e));\n",
        "          }\n",
        "      } else {\n",
        "          this.echo('');\n",
        "      }\n",
        "  }, {\n",
        "      greetings: 'Welcome to Colab Shell',\n",
        "      name: 'colab_demo',\n",
        "      height: 250,\n",
        "      prompt: 'colab > '\n",
        "  });"
      ],
      "execution_count": null,
      "outputs": [
        {
          "output_type": "display_data",
          "data": {
            "text/html": [
              "<div id=term_demo></div>\n",
              "<script src=\"https://code.jquery.com/jquery-latest.js\"></script>\n",
              "<script src=\"https://cdn.jsdelivr.net/npm/jquery.terminal/js/jquery.terminal.min.js\"></script>\n",
              "<link href=\"https://cdn.jsdelivr.net/npm/jquery.terminal/css/jquery.terminal.min.css\" rel=\"stylesheet\"/>\n",
              "<script>\n",
              "  $('#term_demo').terminal(async function(command) {\n",
              "      if (command !== '') {\n",
              "          try {\n",
              "              let res = await google.colab.kernel.invokeFunction('shell', [command])\n",
              "              let out = res.data['application/json'][0]\n",
              "              this.echo(new String(out))\n",
              "          } catch(e) {\n",
              "              this.error(new String(e));\n",
              "          }\n",
              "      } else {\n",
              "          this.echo('');\n",
              "      }\n",
              "  }, {\n",
              "      greetings: 'Welcome to Colab Shell',\n",
              "      name: 'colab_demo',\n",
              "      height: 250,\n",
              "      prompt: 'colab > '\n",
              "  });"
            ],
            "text/plain": [
              "<IPython.core.display.HTML object>"
            ]
          },
          "metadata": {
            "tags": []
          }
        }
      ]
    }
  ]
}